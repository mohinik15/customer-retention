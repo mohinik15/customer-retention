{
 "cells": [
  {
   "cell_type": "code",
   "execution_count": null,
   "id": "e31fbdd0",
   "metadata": {},
   "outputs": [],
   "source": [
    "import warnings\n",
    "warnings.simplefilter(\"ignore\")\n",
    "warnings.filterwarnings(\"ignore\")\n",
    "import pandas_profiling\n",
    "import missingno\n",
    "import pandas as pd\n",
    "import numpy as np\n",
    "import seaborn as sns\n",
    "import matplotlib.pyplot as plt\n",
    "%matplotlib inline\n",
    "from sklearn.preprocessing import OrdinalEncoder"
   ]
  },
  {
   "cell_type": "code",
   "execution_count": null,
   "id": "7a29c802",
   "metadata": {},
   "outputs": [],
   "source": [
    "xls = pd.ExcelFile('customer_retention_dataset.xlsx')\n",
    "df1 = pd.read_excel(xls, 'datasheet') # sheet 1\n",
    "df2 = pd.read_excel(xls, 'codesheet') # sheet 2"
   ]
  },
  {
   "cell_type": "code",
   "execution_count": null,
   "id": "02e5e47a",
   "metadata": {},
   "outputs": [],
   "source": [
    "pd.set_option('display.max_columns', None) # show all columns in a dataframe\n",
    "pd.set_option('display.max_rows', None) # show all rows in a dataframe"
   ]
  },
  {
   "cell_type": "code",
   "execution_count": null,
   "id": "eddeea25",
   "metadata": {},
   "outputs": [],
   "source": [
    " df1.isna().sum() # checking for missing values\n",
    " \n",
    " missingno.matrix(df1, figsize = (10,5))"
   ]
  },
  {
   "cell_type": "code",
   "execution_count": null,
   "id": "214fd21e",
   "metadata": {},
   "outputs": [],
   "source": [
    "df1.describe(include=\"all\").T"
   ]
  },
  {
   "cell_type": "code",
   "execution_count": null,
   "id": "b897441b",
   "metadata": {},
   "outputs": [],
   "source": [
    "df1.info() # checking the datatype information on columns"
   ]
  },
  {
   "cell_type": "code",
   "execution_count": null,
   "id": "b8d25d77",
   "metadata": {},
   "outputs": [],
   "source": [
    "df1.nunique().to_frame(\"unique values\")"
   ]
  },
  {
   "cell_type": "code",
   "execution_count": null,
   "id": "fabe3b88",
   "metadata": {},
   "outputs": [],
   "source": [
    "for col in object_datatype:\n",
    "    print(col)\n",
    "    print(df1[col].value_counts())\n",
    "    print(\"=\"*120)"
   ]
  },
  {
   "cell_type": "code",
   "execution_count": null,
   "id": "66c7711a",
   "metadata": {},
   "outputs": [],
   "source": [
    "for col in df1[object_datatype]:\n",
    "    plt.figure(figsize=(10,6))\n",
    "    col_name = col\n",
    "    values = df1[col_name].value_counts()\n",
    "    index = 0\n",
    "    ax = sns.countplot(df1[col_name],palette=\"viridis\")\n",
    "    \n",
    "    for i in ax.patches:\n",
    "        h = i.get_height() # getting the count of each value\n",
    "        t = len(df1[col_name]) # getting the total number of records using Lengths\n",
    "        s = f\"{h}\\n{round(h*100/t,2)}%)\" # making the string for displaying in count bar\n",
    "        plt.text(index,h/2, s, ha=\"center\", fontweight=\"bold\")\n",
    "        \n",
    "    plt.title(f\"count plot for {col_name}\\n\")\n",
    "    plt.xlabel(col_name)\n",
    "    plt.ylabel(f\"number of rows covered\")\n",
    "    plt.xticks(rotation=90)\n",
    "    plt.show()"
   ]
  },
  {
   "cell_type": "code",
   "execution_count": null,
   "id": "5d122b92",
   "metadata": {},
   "outputs": [],
   "source": [
    "for col in df1:\n",
    "    if col == \"Gender\":\n",
    "        pass\n",
    "    elif col ==\"pin code\":\n",
    "        pass\n",
    "    else:\n",
    "        plt.style.use('seaborn-white')\n",
    "        plt.figure(figsize=(10,8))\n",
    "        sns.countplot(x=col, data=df1, hue='gender')\n",
    "        plt.title(\"{} column with respect to gender details\".format(col))\n",
    "        plt.tight_layout()\n",
    "        plt.xticks(rotation=90)\n",
    "        plt.ylabel(\"number of rows\")\n",
    "        plt.show()"
   ]
  },
  {
   "cell_type": "code",
   "execution_count": null,
   "id": "44f964a3",
   "metadata": {},
   "outputs": [],
   "source": [
    "for col in df1:\n",
    "    if col == \"age\":\n",
    "        pass\n",
    "    elif col ==\"pin code\":\n",
    "        pass\n",
    "    else:\n",
    "        plt.style.use('seaborn-muted')\n",
    "        plt.figure(figsize=(10,8))\n",
    "        sns.countplot(x=col, data=df1, hue='age')\n",
    "        plt.title(\"{} column with respect to age details\".format(col))\n",
    "        plt.tight_layout()\n",
    "        plt.xticks(rotation=90)\n",
    "        plt.ylabel(\"number of rows\")\n",
    "        plt.show()"
   ]
  },
  {
   "cell_type": "code",
   "execution_count": null,
   "id": "0de67014",
   "metadata": {},
   "outputs": [],
   "source": [
    "for col in df1:\n",
    "    if col == \"city\":\n",
    "        pass\n",
    "    elif col ==\"pin code\":\n",
    "        pass\n",
    "    else:\n",
    "        plt.style.use('seaborn-colorblind')\n",
    "        plt.figure(figsize=(10,8))\n",
    "        sns.countplot(x=col, data=df1, hue='city')\n",
    "        plt.title(\"{} column with respect to city details\".format(col))\n",
    "        plt.tight_layout()\n",
    "        plt.xticks(rotation=90)\n",
    "        plt.ylabel(\"number of rows\")\n",
    "        plt.show()"
   ]
  },
  {
   "cell_type": "code",
   "execution_count": null,
   "id": "f4090a72",
   "metadata": {},
   "outputs": [],
   "source": [
    "# ordinal encoding\n",
    "\n",
    "oe = ordinalencoder()\n",
    "\n",
    "def ordinal_encode(df, column):\n",
    "    df[column] = oe.fit_tranform(df[column])\n",
    "    return df"
   ]
  },
  {
   "cell_type": "code",
   "execution_count": null,
   "id": "cf00215b",
   "metadata": {},
   "outputs": [],
   "source": [
    "plt.style.use('seaborn-bright')\n",
    "\n",
    "df.hist(figsize=(40,50))\n",
    "plt.show()"
   ]
  }
 ],
 "metadata": {
  "kernelspec": {
   "display_name": "Python 3 (ipykernel)",
   "language": "python",
   "name": "python3"
  },
  "language_info": {
   "codemirror_mode": {
    "name": "ipython",
    "version": 3
   },
   "file_extension": ".py",
   "mimetype": "text/x-python",
   "name": "python",
   "nbconvert_exporter": "python",
   "pygments_lexer": "ipython3",
   "version": "3.9.7"
  }
 },
 "nbformat": 4,
 "nbformat_minor": 5
}
